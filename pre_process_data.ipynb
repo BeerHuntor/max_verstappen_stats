{
 "cells": [
  {
   "cell_type": "code",
   "execution_count": 1,
   "metadata": {},
   "outputs": [],
   "source": [
    "import os\n",
    "import csv\n",
    "import pandas as pd"
   ]
  },
  {
   "cell_type": "code",
   "execution_count": 62,
   "metadata": {},
   "outputs": [],
   "source": [
    "pwd = os.getcwd()\n",
    "file_paths = ['/scraped_data/scrape_of_rows_odd.csv', '/scraped_data/scrape_of_rows_even.csv']"
   ]
  },
  {
   "cell_type": "code",
   "execution_count": 8,
   "metadata": {},
   "outputs": [],
   "source": [
    "def read_to_list(index):\n",
    "    with open(pwd + file_paths[index], 'r') as f:\n",
    "        reader = csv.reader(f)\n",
    "        return list(reader)"
   ]
  },
  {
   "cell_type": "code",
   "execution_count": 76,
   "metadata": {},
   "outputs": [],
   "source": [
    "odd_rows_raw = read_to_list(0)\n",
    "even_rows_raw = read_to_list(1)"
   ]
  },
  {
   "cell_type": "markdown",
   "metadata": {},
   "source": [
    "# <p align=center> Pre Processing Data </p>\n",
    "## <p>Noticing that the data from the website is displayed rather annoyingly, in the form of span rows, I have decided to alternate the rows with the view of pasting together both list into a DataFrame. To acheieve this, I have to pre process the data to have it in the correct sizing, format to import into the DataFrame.  The odd rows in particular, the way the data was displayed resulted in some entries being not of the same length, thus being out of sync with most of the data pulled from this subsection of rows.  The best way I came about to solving this issue, was to isolate the rows that are not needed, in particular the empty lists, and those that took the header of the table, and remove them.  Then insert a generic entry into the lists that remain, to align the data with the rest.  I will go through and clean this data once It is active in the DataFrame</p>"
   ]
  },
  {
   "cell_type": "code",
   "execution_count": 15,
   "metadata": {},
   "outputs": [
    {
     "name": "stdout",
     "output_type": "stream",
     "text": [
      "(344, 11)\n"
     ]
    },
    {
     "data": {
      "text/html": [
       "<div>\n",
       "<style scoped>\n",
       "    .dataframe tbody tr th:only-of-type {\n",
       "        vertical-align: middle;\n",
       "    }\n",
       "\n",
       "    .dataframe tbody tr th {\n",
       "        vertical-align: top;\n",
       "    }\n",
       "\n",
       "    .dataframe thead th {\n",
       "        text-align: right;\n",
       "    }\n",
       "</style>\n",
       "<table border=\"1\" class=\"dataframe\">\n",
       "  <thead>\n",
       "    <tr style=\"text-align: right;\">\n",
       "      <th></th>\n",
       "      <th>id</th>\n",
       "      <th>track</th>\n",
       "      <th>team</th>\n",
       "      <th>driver_num</th>\n",
       "      <th>driver</th>\n",
       "      <th>model</th>\n",
       "      <th>engine</th>\n",
       "      <th>tyre</th>\n",
       "      <th>grid_pos</th>\n",
       "      <th>fin_pos</th>\n",
       "      <th>notes</th>\n",
       "    </tr>\n",
       "  </thead>\n",
       "  <tbody>\n",
       "    <tr>\n",
       "      <th>0</th>\n",
       "      <td>n</td>\n",
       "      <td>Grand Prix</td>\n",
       "      <td>Team</td>\n",
       "      <td>N°</td>\n",
       "      <td>Driver</td>\n",
       "      <td>Model</td>\n",
       "      <td>Engine</td>\n",
       "      <td>Tyre</td>\n",
       "      <td>Grid</td>\n",
       "      <td>Race</td>\n",
       "      <td>None</td>\n",
       "    </tr>\n",
       "    <tr>\n",
       "      <th>1</th>\n",
       "      <td>None</td>\n",
       "      <td>None</td>\n",
       "      <td>None</td>\n",
       "      <td>None</td>\n",
       "      <td>None</td>\n",
       "      <td>None</td>\n",
       "      <td>None</td>\n",
       "      <td>None</td>\n",
       "      <td>None</td>\n",
       "      <td>None</td>\n",
       "      <td>None</td>\n",
       "    </tr>\n",
       "    <tr>\n",
       "      <th>2</th>\n",
       "      <td>167</td>\n",
       "      <td>Australia</td>\n",
       "      <td>Scuderia Toro Rosso</td>\n",
       "      <td>33</td>\n",
       "      <td>VERSTAPPEN Max</td>\n",
       "      <td>STR10</td>\n",
       "      <td>Renault</td>\n",
       "      <td>Pirelli</td>\n",
       "      <td>11</td>\n",
       "      <td>ab</td>\n",
       "      <td>Engine</td>\n",
       "    </tr>\n",
       "    <tr>\n",
       "      <th>3</th>\n",
       "      <td>None</td>\n",
       "      <td>None</td>\n",
       "      <td>None</td>\n",
       "      <td>None</td>\n",
       "      <td>None</td>\n",
       "      <td>None</td>\n",
       "      <td>None</td>\n",
       "      <td>None</td>\n",
       "      <td>None</td>\n",
       "      <td>None</td>\n",
       "      <td>None</td>\n",
       "    </tr>\n",
       "    <tr>\n",
       "      <th>4</th>\n",
       "      <td></td>\n",
       "      <td></td>\n",
       "      <td></td>\n",
       "      <td></td>\n",
       "      <td></td>\n",
       "      <td></td>\n",
       "      <td></td>\n",
       "      <td></td>\n",
       "      <td></td>\n",
       "      <td></td>\n",
       "      <td></td>\n",
       "    </tr>\n",
       "  </tbody>\n",
       "</table>\n",
       "</div>"
      ],
      "text/plain": [
       "     id       track                 team driver_num          driver  model  \\\n",
       "0     n  Grand Prix                 Team         N°          Driver  Model   \n",
       "1  None        None                 None       None            None   None   \n",
       "2   167   Australia  Scuderia Toro Rosso         33  VERSTAPPEN Max  STR10   \n",
       "3  None        None                 None       None            None   None   \n",
       "4                                                                            \n",
       "\n",
       "    engine     tyre grid_pos fin_pos   notes  \n",
       "0   Engine     Tyre     Grid    Race    None  \n",
       "1     None     None     None    None    None  \n",
       "2  Renault  Pirelli       11      ab  Engine  \n",
       "3     None     None     None    None    None  \n",
       "4                                             "
      ]
     },
     "execution_count": 15,
     "metadata": {},
     "output_type": "execute_result"
    }
   ],
   "source": [
    "odd_df = pd.DataFrame(odd_rows_raw, columns=[\"id\", \"track\", \"team\", \"driver_num\", \"driver\", \"model\", \"engine\", \"tyre\", \"grid_pos\", \"fin_pos\", \"notes\"]) \n",
    "print(odd_df.shape)\n",
    "\n",
    "odd_df = odd_df.iloc[odd_df.index[46:68]].shift(periods=2, axis=\"columns\")"
   ]
  },
  {
   "cell_type": "code",
   "execution_count": 28,
   "metadata": {},
   "outputs": [],
   "source": [
    "# Cleaning the list removing unnessecary lists and adding new indexes where needed.  \n",
    "for ls in odd_rows_raw: \n",
    "    if len(ls) == 0 or ls[0] == '' or ls[0] == 'n': \n",
    "        odd_rows_raw.remove(ls)\n",
    "    if len(ls) <= 10 or len(ls) == 9: \n",
    "        ls.insert(0, 'id')\n",
    "        ls.insert(1, 'track')\n",
    "        print(ls)\n",
    "    else: \n",
    "        pass"
   ]
  },
  {
   "cell_type": "code",
   "execution_count": 42,
   "metadata": {},
   "outputs": [],
   "source": [
    "# Copy of the uniformed list as bacup. \n",
    "odd_rows_removed = [row.copy() for row in odd_rows_raw]"
   ]
  },
  {
   "cell_type": "code",
   "execution_count": 52,
   "metadata": {},
   "outputs": [],
   "source": [
    "# Adding the year to the list throughout the season results. \n",
    "def insert_years(list_name):\n",
    "    races_per_season = { \n",
    "        '2015' : '19',\n",
    "        '2016' : '21',\n",
    "        '20116': '21',\n",
    "        '2017' : '20',\n",
    "        '2018' : '21',\n",
    "        '2019' : '21', \n",
    "        '2020' : '17', \n",
    "        '2021' : '16'\n",
    "    }\n",
    "\n",
    "    i = 0\n",
    "    for k,v in races_per_season.items(): \n",
    "        total_races = 0\n",
    "        while total_races < int(v):\n",
    "            list_name[i].insert(1, k)\n",
    "            total_races += 1\n",
    "            i += 1"
   ]
  },
  {
   "cell_type": "markdown",
   "metadata": {},
   "source": [
    "# <p align=center>Creating the first DataFrame</p>\n",
    "## Now that we have pre processed our odd data, by adding the requried indices to make it conform to the main list we can create our first DataFrame."
   ]
  },
  {
   "cell_type": "code",
   "execution_count": 64,
   "metadata": {},
   "outputs": [
    {
     "data": {
      "text/html": [
       "<div>\n",
       "<style scoped>\n",
       "    .dataframe tbody tr th:only-of-type {\n",
       "        vertical-align: middle;\n",
       "    }\n",
       "\n",
       "    .dataframe tbody tr th {\n",
       "        vertical-align: top;\n",
       "    }\n",
       "\n",
       "    .dataframe thead th {\n",
       "        text-align: right;\n",
       "    }\n",
       "</style>\n",
       "<table border=\"1\" class=\"dataframe\">\n",
       "  <thead>\n",
       "    <tr style=\"text-align: right;\">\n",
       "      <th></th>\n",
       "      <th>id</th>\n",
       "      <th>year</th>\n",
       "      <th>track</th>\n",
       "      <th>team</th>\n",
       "      <th>driver_num</th>\n",
       "      <th>driver</th>\n",
       "      <th>model</th>\n",
       "      <th>engine</th>\n",
       "      <th>tyre</th>\n",
       "      <th>grid_pos</th>\n",
       "      <th>fin_pos</th>\n",
       "      <th>notes</th>\n",
       "    </tr>\n",
       "  </thead>\n",
       "  <tbody>\n",
       "    <tr>\n",
       "      <th>0</th>\n",
       "      <td>167</td>\n",
       "      <td>2015</td>\n",
       "      <td>Australia</td>\n",
       "      <td>Scuderia Toro Rosso</td>\n",
       "      <td>33</td>\n",
       "      <td>VERSTAPPEN Max</td>\n",
       "      <td>STR10</td>\n",
       "      <td>Renault</td>\n",
       "      <td>Pirelli</td>\n",
       "      <td>11</td>\n",
       "      <td>ab</td>\n",
       "      <td>Engine</td>\n",
       "    </tr>\n",
       "    <tr>\n",
       "      <th>1</th>\n",
       "      <td>168</td>\n",
       "      <td>2015</td>\n",
       "      <td>Malaysia</td>\n",
       "      <td>Scuderia Toro Rosso</td>\n",
       "      <td>33</td>\n",
       "      <td>VERSTAPPEN Max</td>\n",
       "      <td>STR10</td>\n",
       "      <td>Renault</td>\n",
       "      <td>Pirelli</td>\n",
       "      <td>6</td>\n",
       "      <td>7</td>\n",
       "      <td></td>\n",
       "    </tr>\n",
       "    <tr>\n",
       "      <th>2</th>\n",
       "      <td>169</td>\n",
       "      <td>2015</td>\n",
       "      <td>China</td>\n",
       "      <td>Scuderia Toro Rosso</td>\n",
       "      <td>33</td>\n",
       "      <td>VERSTAPPEN Max</td>\n",
       "      <td>STR10</td>\n",
       "      <td>Renault</td>\n",
       "      <td>Pirelli</td>\n",
       "      <td>13</td>\n",
       "      <td>17</td>\n",
       "      <td>Engine</td>\n",
       "    </tr>\n",
       "    <tr>\n",
       "      <th>3</th>\n",
       "      <td>170</td>\n",
       "      <td>2015</td>\n",
       "      <td>Bahrain</td>\n",
       "      <td>Scuderia Toro Rosso</td>\n",
       "      <td>33</td>\n",
       "      <td>VERSTAPPEN Max</td>\n",
       "      <td>STR10</td>\n",
       "      <td>Renault</td>\n",
       "      <td>Pirelli</td>\n",
       "      <td>15</td>\n",
       "      <td>ab</td>\n",
       "      <td>Electrics</td>\n",
       "    </tr>\n",
       "    <tr>\n",
       "      <th>4</th>\n",
       "      <td>171</td>\n",
       "      <td>2015</td>\n",
       "      <td>Spain</td>\n",
       "      <td>Scuderia Toro Rosso</td>\n",
       "      <td>33</td>\n",
       "      <td>VERSTAPPEN Max</td>\n",
       "      <td>STR10</td>\n",
       "      <td>Renault</td>\n",
       "      <td>Pirelli</td>\n",
       "      <td>6</td>\n",
       "      <td>11</td>\n",
       "      <td></td>\n",
       "    </tr>\n",
       "  </tbody>\n",
       "</table>\n",
       "</div>"
      ],
      "text/plain": [
       "    id  year      track                 team driver_num          driver  \\\n",
       "0  167  2015  Australia  Scuderia Toro Rosso         33  VERSTAPPEN Max   \n",
       "1  168  2015   Malaysia  Scuderia Toro Rosso         33  VERSTAPPEN Max   \n",
       "2  169  2015      China  Scuderia Toro Rosso         33  VERSTAPPEN Max   \n",
       "3  170  2015    Bahrain  Scuderia Toro Rosso         33  VERSTAPPEN Max   \n",
       "4  171  2015      Spain  Scuderia Toro Rosso         33  VERSTAPPEN Max   \n",
       "\n",
       "   model   engine     tyre grid_pos fin_pos      notes  \n",
       "0  STR10  Renault  Pirelli       11      ab     Engine  \n",
       "1  STR10  Renault  Pirelli        6       7             \n",
       "2  STR10  Renault  Pirelli       13      17     Engine  \n",
       "3  STR10  Renault  Pirelli       15      ab  Electrics  \n",
       "4  STR10  Renault  Pirelli        6      11             "
      ]
     },
     "execution_count": 64,
     "metadata": {},
     "output_type": "execute_result"
    }
   ],
   "source": [
    "odd_df = pd.DataFrame(odd_rows_removed, columns=[\"id\", \"year\", \"track\", \"team\", \"driver_num\", \"driver\", \"model\", \"engine\", \"tyre\", \"grid_pos\", \"fin_pos\", \"notes\"])\n",
    "odd_df.head()"
   ]
  },
  {
   "cell_type": "markdown",
   "metadata": {},
   "source": [
    "# <p align=center> Now for the even rows </p>\n",
    "## Now we repeat the above process with the even rows"
   ]
  },
  {
   "cell_type": "code",
   "execution_count": 82,
   "metadata": {},
   "outputs": [],
   "source": [
    "for ls in even_rows_raw: \n",
    "    if len(ls) == 0: \n",
    "        even_rows_raw.remove(ls)\n",
    "    elif len(ls) == 9: \n",
    "        ls.insert(0, 'id')\n",
    "        ls.insert(1, 'track')\n",
    "    else:\n",
    "        pass"
   ]
  },
  {
   "cell_type": "code",
   "execution_count": 85,
   "metadata": {},
   "outputs": [],
   "source": [
    "even_rows_removed = [row.copy() for row in even_rows_raw]"
   ]
  },
  {
   "cell_type": "code",
   "execution_count": 88,
   "metadata": {},
   "outputs": [
    {
     "data": {
      "text/plain": [
       "['id',\n",
       " '2015',\n",
       " 'track',\n",
       " 'Scuderia Toro Rosso',\n",
       " '55',\n",
       " 'SAINZ Carlos',\n",
       " 'STR10',\n",
       " 'Renault',\n",
       " 'Pirelli',\n",
       " '7',\n",
       " '9',\n",
       " '']"
      ]
     },
     "execution_count": 88,
     "metadata": {},
     "output_type": "execute_result"
    }
   ],
   "source": [
    "even_rows_removed[0]"
   ]
  },
  {
   "cell_type": "code",
   "execution_count": null,
   "metadata": {},
   "outputs": [],
   "source": []
  }
 ],
 "metadata": {
  "interpreter": {
   "hash": "6180266b96e5d68251ba877e2f7e9407e638de689775c4774b9b7388b1dfb47e"
  },
  "kernelspec": {
   "display_name": "Python 3.9.7 64-bit ('base': conda)",
   "name": "python3"
  },
  "language_info": {
   "codemirror_mode": {
    "name": "ipython",
    "version": 3
   },
   "file_extension": ".py",
   "mimetype": "text/x-python",
   "name": "python",
   "nbconvert_exporter": "python",
   "pygments_lexer": "ipython3",
   "version": "3.9.7"
  },
  "orig_nbformat": 4
 },
 "nbformat": 4,
 "nbformat_minor": 2
}

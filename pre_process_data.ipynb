{
 "cells": [
  {
   "cell_type": "code",
   "execution_count": 90,
   "metadata": {},
   "outputs": [],
   "source": [
    "import os\n",
    "import csv\n",
    "import pandas as pd\n",
    "import json"
   ]
  },
  {
   "cell_type": "code",
   "execution_count": 32,
   "metadata": {},
   "outputs": [],
   "source": [
    "pwd = os.getcwd()\n",
    "file_paths = ['/scraped_data/scrape_of_rows_odd.csv', '/scraped_data/scrape_of_rows_even.csv']"
   ]
  },
  {
   "cell_type": "code",
   "execution_count": 33,
   "metadata": {},
   "outputs": [],
   "source": [
    "def read_to_list(index):\n",
    "    with open(pwd + file_paths[index], 'r') as f:\n",
    "        reader = csv.reader(f)\n",
    "        return list(reader)"
   ]
  },
  {
   "cell_type": "code",
   "execution_count": 55,
   "metadata": {},
   "outputs": [],
   "source": [
    "odd_rows_raw = read_to_list(0)\n",
    "even_rows_raw = read_to_list(1)"
   ]
  },
  {
   "cell_type": "markdown",
   "metadata": {},
   "source": [
    "# <p align=center> Pre Processing Data </p>\n",
    "## <p>Noticing that the data from the website is displayed rather annoyingly, in the form of span rows, I have decided to alternate the rows with the view of pasting together both list into a DataFrame. To acheieve this, I have to pre process the data to have it in the correct sizing, format to import into the DataFrame.  The odd rows in particular, the way the data was displayed resulted in some entries being not of the same length, thus being out of sync with most of the data pulled from this subsection of rows.  The best way I came about to solving this issue, was to isolate the rows that are not needed, in particular the empty lists, and those that took the header of the table, and remove them.  Then insert a generic entry into the lists that remain, to align the data with the rest.  I will go through and clean this data once It is active in the DataFrame</p>"
   ]
  },
  {
   "cell_type": "code",
   "execution_count": 35,
   "metadata": {},
   "outputs": [
    {
     "name": "stdout",
     "output_type": "stream",
     "text": [
      "(344, 11)\n"
     ]
    }
   ],
   "source": [
    "odd_df = pd.DataFrame(odd_rows_raw, columns=[\"id\", \"track\", \"team\", \"driver_num\", \"driver\", \"model\", \"engine\", \"tyre\", \"grid_pos\", \"fin_pos\", \"notes\"]) \n",
    "print(odd_df.shape)\n",
    "\n",
    "odd_df = odd_df.iloc[odd_df.index[46:68]].shift(periods=2, axis=\"columns\")"
   ]
  },
  {
   "cell_type": "code",
   "execution_count": 61,
   "metadata": {},
   "outputs": [],
   "source": [
    "# Cleaning the list removing unnessecary lists\n",
    "def remove_unneeded_lists(list_name):\n",
    "    for ls in list_name: \n",
    "        #print(ls)\n",
    "        if len(ls) == 0 or ls[0] == ' ' or ls[0] == 'n': \n",
    "            list_name.remove(ls)"
   ]
  },
  {
   "cell_type": "code",
   "execution_count": 37,
   "metadata": {},
   "outputs": [],
   "source": [
    "# Add's 'id' and 'track' column to the lists where it is missing\n",
    "def add_generic_data(list_name):\n",
    "    for ls in list_name: \n",
    "        if len(ls) < 11: \n",
    "            ls.insert(0, 'id')\n",
    "            ls.insert(1, 'track')"
   ]
  },
  {
   "cell_type": "code",
   "execution_count": 38,
   "metadata": {},
   "outputs": [],
   "source": [
    "# Adding the year to the list throughout the season results. \n",
    "def insert_years(list_name):\n",
    "    races_per_season = { \n",
    "        '2015' : '19',\n",
    "        '2016' : '21',\n",
    "        '20116': '21',\n",
    "        '2017' : '20',\n",
    "        '2018' : '21',\n",
    "        '2019' : '21', \n",
    "        '2020' : '17', \n",
    "        '2021' : '16'\n",
    "    }\n",
    "\n",
    "    i = 0\n",
    "    for k,v in races_per_season.items(): \n",
    "        total_races = 0\n",
    "        while total_races < int(v):\n",
    "            try:\n",
    "                list_name[i].insert(1, k)\n",
    "                total_races += 1\n",
    "                i += 1\n",
    "            except IndexError:\n",
    "                print(\"Race's don't add up, are you trying to pass more races than you have data?\")\n",
    "                break"
   ]
  },
  {
   "cell_type": "code",
   "execution_count": 67,
   "metadata": {},
   "outputs": [],
   "source": [
    "remove_unneeded_lists(odd_rows_raw)"
   ]
  },
  {
   "cell_type": "code",
   "execution_count": 71,
   "metadata": {},
   "outputs": [],
   "source": [
    "insert_years(odd_rows_raw)"
   ]
  },
  {
   "cell_type": "code",
   "execution_count": 72,
   "metadata": {},
   "outputs": [],
   "source": [
    "# Copy of the uniformed list as bacup. \n",
    "odd_rows_uniformed = [row.copy() for row in odd_rows_raw]"
   ]
  },
  {
   "cell_type": "code",
   "execution_count": 83,
   "metadata": {},
   "outputs": [
    {
     "data": {
      "text/plain": [
       "[1,\n",
       " '2015',\n",
       " 'Australia',\n",
       " 'Scuderia Toro Rosso',\n",
       " '33',\n",
       " 'VERSTAPPEN Max',\n",
       " 'STR10',\n",
       " 'Renault',\n",
       " 'Pirelli',\n",
       " '11',\n",
       " 'ab',\n",
       " 'Engine']"
      ]
     },
     "execution_count": 83,
     "metadata": {},
     "output_type": "execute_result"
    }
   ],
   "source": [
    "odd_rows_uniformed[0]"
   ]
  },
  {
   "cell_type": "markdown",
   "metadata": {},
   "source": [
    "# <p align=center>Creating the first DataFrame</p>\n",
    "## Now that we have pre processed our odd data, by adding the requried indices to make it conform to the main list we can create our first DataFrame. To enable us to have something to join on easier later, I am making the id, start from 0 - this makes sense as it is designed to follow the stats from the start of Max's F1 career. "
   ]
  },
  {
   "cell_type": "code",
   "execution_count": 43,
   "metadata": {},
   "outputs": [],
   "source": [
    "# Sets the race id according to the race number in which Max Participated from 2015 onwards. \n",
    "def set_race_id(list_name, race_id_start, race_number_start, race_number_end):    \n",
    "    race_id = race_id_start\n",
    "    for ls in list_name[race_number_start:race_number_end]:\n",
    "        try: \n",
    "            ls[0] = race_id\n",
    "            race_id += 1\n",
    "        except IndexError:\n",
    "            print(\"index error, not enough races to complete.\")"
   ]
  },
  {
   "cell_type": "code",
   "execution_count": 75,
   "metadata": {},
   "outputs": [
    {
     "data": {
      "text/html": [
       "<div>\n",
       "<style scoped>\n",
       "    .dataframe tbody tr th:only-of-type {\n",
       "        vertical-align: middle;\n",
       "    }\n",
       "\n",
       "    .dataframe tbody tr th {\n",
       "        vertical-align: top;\n",
       "    }\n",
       "\n",
       "    .dataframe thead th {\n",
       "        text-align: right;\n",
       "    }\n",
       "</style>\n",
       "<table border=\"1\" class=\"dataframe\">\n",
       "  <thead>\n",
       "    <tr style=\"text-align: right;\">\n",
       "      <th></th>\n",
       "      <th>id</th>\n",
       "      <th>year</th>\n",
       "      <th>track</th>\n",
       "      <th>team</th>\n",
       "      <th>driver_num</th>\n",
       "      <th>driver</th>\n",
       "      <th>model</th>\n",
       "      <th>engine</th>\n",
       "      <th>tyre</th>\n",
       "      <th>grid_pos</th>\n",
       "      <th>fin_pos</th>\n",
       "      <th>notes</th>\n",
       "    </tr>\n",
       "  </thead>\n",
       "  <tbody>\n",
       "    <tr>\n",
       "      <th>0</th>\n",
       "      <td>167</td>\n",
       "      <td>2015</td>\n",
       "      <td>Australia</td>\n",
       "      <td>Scuderia Toro Rosso</td>\n",
       "      <td>33</td>\n",
       "      <td>VERSTAPPEN Max</td>\n",
       "      <td>STR10</td>\n",
       "      <td>Renault</td>\n",
       "      <td>Pirelli</td>\n",
       "      <td>11</td>\n",
       "      <td>ab</td>\n",
       "      <td>Engine</td>\n",
       "    </tr>\n",
       "    <tr>\n",
       "      <th>1</th>\n",
       "      <td>168</td>\n",
       "      <td>2015</td>\n",
       "      <td>Malaysia</td>\n",
       "      <td>Scuderia Toro Rosso</td>\n",
       "      <td>33</td>\n",
       "      <td>VERSTAPPEN Max</td>\n",
       "      <td>STR10</td>\n",
       "      <td>Renault</td>\n",
       "      <td>Pirelli</td>\n",
       "      <td>6</td>\n",
       "      <td>7</td>\n",
       "      <td></td>\n",
       "    </tr>\n",
       "    <tr>\n",
       "      <th>2</th>\n",
       "      <td>169</td>\n",
       "      <td>2015</td>\n",
       "      <td>China</td>\n",
       "      <td>Scuderia Toro Rosso</td>\n",
       "      <td>33</td>\n",
       "      <td>VERSTAPPEN Max</td>\n",
       "      <td>STR10</td>\n",
       "      <td>Renault</td>\n",
       "      <td>Pirelli</td>\n",
       "      <td>13</td>\n",
       "      <td>17</td>\n",
       "      <td>Engine</td>\n",
       "    </tr>\n",
       "    <tr>\n",
       "      <th>3</th>\n",
       "      <td>170</td>\n",
       "      <td>2015</td>\n",
       "      <td>Bahrain</td>\n",
       "      <td>Scuderia Toro Rosso</td>\n",
       "      <td>33</td>\n",
       "      <td>VERSTAPPEN Max</td>\n",
       "      <td>STR10</td>\n",
       "      <td>Renault</td>\n",
       "      <td>Pirelli</td>\n",
       "      <td>15</td>\n",
       "      <td>ab</td>\n",
       "      <td>Electrics</td>\n",
       "    </tr>\n",
       "    <tr>\n",
       "      <th>4</th>\n",
       "      <td>171</td>\n",
       "      <td>2015</td>\n",
       "      <td>Spain</td>\n",
       "      <td>Scuderia Toro Rosso</td>\n",
       "      <td>33</td>\n",
       "      <td>VERSTAPPEN Max</td>\n",
       "      <td>STR10</td>\n",
       "      <td>Renault</td>\n",
       "      <td>Pirelli</td>\n",
       "      <td>6</td>\n",
       "      <td>11</td>\n",
       "      <td></td>\n",
       "    </tr>\n",
       "  </tbody>\n",
       "</table>\n",
       "</div>"
      ],
      "text/plain": [
       "    id  year      track                 team driver_num          driver  \\\n",
       "0  167  2015  Australia  Scuderia Toro Rosso         33  VERSTAPPEN Max   \n",
       "1  168  2015   Malaysia  Scuderia Toro Rosso         33  VERSTAPPEN Max   \n",
       "2  169  2015      China  Scuderia Toro Rosso         33  VERSTAPPEN Max   \n",
       "3  170  2015    Bahrain  Scuderia Toro Rosso         33  VERSTAPPEN Max   \n",
       "4  171  2015      Spain  Scuderia Toro Rosso         33  VERSTAPPEN Max   \n",
       "\n",
       "   model   engine     tyre grid_pos fin_pos      notes  \n",
       "0  STR10  Renault  Pirelli       11      ab     Engine  \n",
       "1  STR10  Renault  Pirelli        6       7             \n",
       "2  STR10  Renault  Pirelli       13      17     Engine  \n",
       "3  STR10  Renault  Pirelli       15      ab  Electrics  \n",
       "4  STR10  Renault  Pirelli        6      11             "
      ]
     },
     "execution_count": 75,
     "metadata": {},
     "output_type": "execute_result"
    }
   ],
   "source": [
    "odd_df = pd.DataFrame(odd_rows_uniformed, columns=[\"id\", \"year\", \"track\", \"team\", \"driver_num\", \"driver\", \"model\", \"engine\", \"tyre\", \"grid_pos\", \"fin_pos\", \"notes\"])\n",
    "odd_df.head()"
   ]
  },
  {
   "cell_type": "code",
   "execution_count": 76,
   "metadata": {},
   "outputs": [],
   "source": [
    "set_race_id(odd_rows_uniformed, 1, 0, 40) # Isolates Toro Rosso from 2015 - 2016\n",
    "set_race_id(odd_rows_uniformed, 20, 40, -1) # RedBull from 2016 onward. "
   ]
  },
  {
   "cell_type": "code",
   "execution_count": 77,
   "metadata": {},
   "outputs": [
    {
     "data": {
      "text/plain": [
       "[[40,\n",
       "  '2016',\n",
       "  'Abu Dhabi',\n",
       "  'Scuderia Toro Rosso',\n",
       "  '26',\n",
       "  'KVYAT Daniil',\n",
       "  'STR11',\n",
       "  'Ferrari',\n",
       "  'Pirelli',\n",
       "  '17',\n",
       "  'ab',\n",
       "  'Gearbox'],\n",
       " [20,\n",
       "  '20116',\n",
       "  'Australia',\n",
       "  'Red Bull Racing',\n",
       "  '3',\n",
       "  'RICCIARDO Daniel',\n",
       "  'RB12',\n",
       "  'TAG Heuer',\n",
       "  'Pirelli',\n",
       "  '8',\n",
       "  '4',\n",
       "  '']]"
      ]
     },
     "execution_count": 77,
     "metadata": {},
     "output_type": "execute_result"
    }
   ],
   "source": [
    "odd_rows_uniformed[39:41]"
   ]
  },
  {
   "cell_type": "markdown",
   "metadata": {},
   "source": [
    "# <p align=center> Now for the even rows </p>\n",
    "## Now we repeat the above process with the even rows"
   ]
  },
  {
   "cell_type": "code",
   "execution_count": 78,
   "metadata": {},
   "outputs": [],
   "source": [
    "remove_unneeded_lists(even_rows_raw)"
   ]
  },
  {
   "cell_type": "code",
   "execution_count": 214,
   "metadata": {},
   "outputs": [],
   "source": [
    "even_rows_uniformed = [row.copy() for row in even_rows_raw]"
   ]
  },
  {
   "cell_type": "code",
   "execution_count": 80,
   "metadata": {},
   "outputs": [
    {
     "data": {
      "text/plain": [
       "['Scuderia Toro Rosso',\n",
       " '55',\n",
       " 'SAINZ Carlos',\n",
       " 'STR10',\n",
       " 'Renault',\n",
       " 'Pirelli',\n",
       " '15',\n",
       " '8',\n",
       " '']"
      ]
     },
     "execution_count": 80,
     "metadata": {},
     "output_type": "execute_result"
    }
   ],
   "source": [
    "even_rows_uniformed[1]"
   ]
  },
  {
   "cell_type": "code",
   "execution_count": 215,
   "metadata": {},
   "outputs": [],
   "source": [
    "add_generic_data(even_rows_uniformed)"
   ]
  },
  {
   "cell_type": "code",
   "execution_count": 216,
   "metadata": {},
   "outputs": [
    {
     "name": "stdout",
     "output_type": "stream",
     "text": [
      "Race's don't add up, are you trying to pass more races than you have data?\n"
     ]
    }
   ],
   "source": [
    "insert_years(even_rows_uniformed)"
   ]
  },
  {
   "cell_type": "code",
   "execution_count": 217,
   "metadata": {},
   "outputs": [],
   "source": [
    "set_race_id(even_rows_uniformed, 1, 0, 40)\n",
    "set_race_id(even_rows_uniformed, 21, 40, len(even_rows_uniformed))"
   ]
  },
  {
   "cell_type": "code",
   "execution_count": 219,
   "metadata": {},
   "outputs": [],
   "source": [
    "even_rows_tracks = [row.copy() for row in even_rows_uniformed]"
   ]
  },
  {
   "cell_type": "markdown",
   "metadata": {},
   "source": [
    "# <p align=center>Reading our JSON File to get the track names and inserting them into the lists</p>"
   ]
  },
  {
   "cell_type": "code",
   "execution_count": 100,
   "metadata": {},
   "outputs": [],
   "source": [
    "json_file_path = 'track_info.json'\n",
    "with open(json_file_path, 'r') as file:\n",
    "    contents = json.load(file)"
   ]
  },
  {
   "cell_type": "code",
   "execution_count": 231,
   "metadata": {},
   "outputs": [],
   "source": [
    "#TODO: Using this method, when it loops through the year, the values change, but the rows stay constant, so its calling row[0] every itteration. -- Need to find a solution to this\n",
    "def add_tracks(list_name, start_race_index, end_race_index, start_year): \n",
    "    year = start_year\n",
    "    i = start_race_index\n",
    "    while i < end_race_index:\n",
    "        for element in contents[f\"{year}\"]:\n",
    "            for row, value in zip(list_name[start_race_index:end_race_index], element):\n",
    "                row[2] = value\n",
    "                i += 1\n",
    "        year += 1\n",
    "add_tracks(even_rows_tracks, 0, 40, 2015)"
   ]
  },
  {
   "cell_type": "code",
   "execution_count": 226,
   "metadata": {},
   "outputs": [],
   "source": [
    "add_tracks(even_rows_tracks, 0, 40, 2015)"
   ]
  },
  {
   "cell_type": "code",
   "execution_count": 230,
   "metadata": {},
   "outputs": [
    {
     "name": "stdout",
     "output_type": "stream",
     "text": [
      "[1, '2015', 'Australia', 'Scuderia Toro Rosso', '55', 'SAINZ Carlos', 'STR10', 'Renault', 'Pirelli', '7', '9', '']\n",
      "[2, '2015', 'Malaysia', 'Scuderia Toro Rosso', '55', 'SAINZ Carlos', 'STR10', 'Renault', 'Pirelli', '15', '8', '']\n",
      "[3, '2015', 'China', 'Scuderia Toro Rosso', '55', 'SAINZ Carlos', 'STR10', 'Renault', 'Pirelli', '14', '13', '']\n",
      "[4, '2015', 'Bahrian', 'Scuderia Toro Rosso', '55', 'SAINZ Carlos', 'STR10', 'Renault', 'Pirelli', '9', 'ab', 'Wheel']\n",
      "[5, '2015', 'Spain', 'Scuderia Toro Rosso', '55', 'SAINZ Carlos', 'STR10', 'Renault', 'Pirelli', '5', '9', '']\n",
      "[6, '2015', 'Monaco', 'Scuderia Toro Rosso', '55', 'SAINZ Carlos', 'STR10', 'Renault', 'Pirelli', '20', '10', '']\n",
      "[7, '2015', 'Canada', 'Scuderia Toro Rosso', '55', 'SAINZ Carlos', 'STR10', 'Renault', 'Pirelli', '11', '12', '']\n",
      "[8, '2015', 'Austria', 'Scuderia Toro Rosso', '55', 'SAINZ Carlos', 'STR10', 'Renault', 'Pirelli', '12', 'ab', 'Power loss']\n",
      "[9, '2015', 'Britain', 'Scuderia Toro Rosso', '55', 'SAINZ Carlos', 'STR10', 'Renault', 'Pirelli', '8', 'ab', 'Electrics']\n",
      "[10, '2015', 'Hungary', 'Scuderia Toro Rosso', '55', 'SAINZ Carlos', 'STR10', 'Renault', 'Pirelli', '12', 'ab', 'Power loss']\n",
      "[11, '2015', 'Belguim', 'Scuderia Toro Rosso', '55', 'SAINZ Carlos', 'STR10', 'Renault', 'Pirelli', '10', 'ab', 'Withdrew']\n",
      "[12, '2015', 'Italy', 'Scuderia Toro Rosso', '55', 'SAINZ Carlos', 'STR10', 'Renault', 'Pirelli', '17', '11', '']\n",
      "[13, '2015', 'Singapore', 'Scuderia Toro Rosso', '55', 'SAINZ Carlos', 'STR10', 'Renault', 'Pirelli', '14', '9', '']\n",
      "[14, '2015', 'Japan', 'Scuderia Toro Rosso', '55', 'SAINZ Carlos', 'STR10', 'Renault', 'Pirelli', '10', '10', '']\n",
      "[15, '2015', 'Russia', 'Scuderia Toro Rosso', '55', 'SAINZ Carlos', 'STR10', 'Renault', 'Pirelli', '20', 'ab', 'Brakes']\n",
      "[16, '2015', 'USA', 'Scuderia Toro Rosso', '55', 'SAINZ Carlos', 'STR10', 'Renault', 'Pirelli', '20', '7', '5s penalty']\n",
      "[17, '2015', 'Mexico', 'Scuderia Toro Rosso', '55', 'SAINZ Carlos', 'STR10', 'Renault', 'Pirelli', '11', '13', '']\n",
      "[18, '2015', 'Brazil', 'Scuderia Toro Rosso', '55', 'SAINZ Carlos', 'STR10', 'Renault', 'Pirelli', '10', 'ab', 'Power loss']\n",
      "[19, '2015', 'Abu Dhabi', 'Scuderia Toro Rosso', '55', 'SAINZ Carlos', 'STR10', 'Renault', 'Pirelli', '10', '11', '']\n",
      "[20, '2016', 'Brazil', 'Scuderia Toro Rosso', '55', 'SAINZ Carlos', 'STR11', 'Ferrari', 'Pirelli', '7', '9', '']\n"
     ]
    }
   ],
   "source": [
    "for row in even_rows_tracks[:20]:\n",
    "    print(row)"
   ]
  },
  {
   "cell_type": "code",
   "execution_count": null,
   "metadata": {},
   "outputs": [],
   "source": []
  }
 ],
 "metadata": {
  "interpreter": {
   "hash": "6180266b96e5d68251ba877e2f7e9407e638de689775c4774b9b7388b1dfb47e"
  },
  "kernelspec": {
   "display_name": "Python 3.9.7 64-bit ('base': conda)",
   "name": "python3"
  },
  "language_info": {
   "codemirror_mode": {
    "name": "ipython",
    "version": 3
   },
   "file_extension": ".py",
   "mimetype": "text/x-python",
   "name": "python",
   "nbconvert_exporter": "python",
   "pygments_lexer": "ipython3",
   "version": "3.9.7"
  },
  "orig_nbformat": 4
 },
 "nbformat": 4,
 "nbformat_minor": 2
}

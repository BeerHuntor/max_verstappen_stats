{
 "cells": [
  {
   "cell_type": "code",
   "execution_count": 28,
   "metadata": {},
   "outputs": [],
   "source": [
    "import os\n",
    "import csv\n",
    "import pandas as pd"
   ]
  },
  {
   "cell_type": "code",
   "execution_count": 29,
   "metadata": {},
   "outputs": [],
   "source": [
    "pwd = os.getcwd()\n",
    "file_paths = ['/scraped_data/scrape_of_rows_odd.csv', '/scraped_data/scrape_of_rows_even.csv']"
   ]
  },
  {
   "cell_type": "code",
   "execution_count": 30,
   "metadata": {},
   "outputs": [],
   "source": [
    "def read_to_list(index):\n",
    "    with open(pwd + file_paths[index], 'r') as f:\n",
    "        reader = csv.reader(f)\n",
    "        return list(reader)"
   ]
  },
  {
   "cell_type": "code",
   "execution_count": 48,
   "metadata": {},
   "outputs": [],
   "source": [
    "odd_rows_raw = read_to_list(0)\n",
    "even_rows_raw = read_to_list(1)"
   ]
  },
  {
   "cell_type": "markdown",
   "metadata": {},
   "source": [
    "# <p align=center> Pre Processing Data </p>\n",
    "## <p>Noticing that the data from the website is displayed rather annoyingly, in the form of span rows, I have decided to alternate the rows with the view of pasting together both list into a DataFrame. To acheieve this, I have to pre process the data to have it in the correct sizing, format to import into the DataFrame.  The odd rows in particular, the way the data was displayed resulted in some entries being not of the same length, thus being out of sync with most of the data pulled from this subsection of rows.  The best way I came about to solving this issue, was to isolate the rows that are not needed, in particular the empty lists, and those that took the header of the table, and remove them.  Then insert a generic entry into the lists that remain, to align the data with the rest.  I will go through and clean this data once It is active in the DataFrame</p>"
   ]
  },
  {
   "cell_type": "code",
   "execution_count": 49,
   "metadata": {},
   "outputs": [
    {
     "name": "stdout",
     "output_type": "stream",
     "text": [
      "(344, 11)\n"
     ]
    }
   ],
   "source": [
    "odd_df = pd.DataFrame(odd_rows_raw, columns=[\"id\", \"track\", \"team\", \"driver_num\", \"driver\", \"model\", \"engine\", \"tyre\", \"grid_pos\", \"fin_pos\", \"notes\"]) \n",
    "print(odd_df.shape)\n",
    "\n",
    "odd_df = odd_df.iloc[odd_df.index[46:68]].shift(periods=2, axis=\"columns\")"
   ]
  },
  {
   "cell_type": "code",
   "execution_count": 86,
   "metadata": {},
   "outputs": [],
   "source": [
    "# Cleaning the list removing unnessecary lists\n",
    "def remove_unneeded_lists(list_name):\n",
    "    for ls in list_name: \n",
    "        #print(ls)\n",
    "        if len(ls) == 0 or ls[0] == '' or ls[0] == 'n': \n",
    "            list_name.remove(ls)"
   ]
  },
  {
   "cell_type": "code",
   "execution_count": 87,
   "metadata": {},
   "outputs": [],
   "source": [
    "# Add's 'id' and 'track' column to the lists where it is missing\n",
    "def add_generic_data(list_name):\n",
    "    for ls in list_name: \n",
    "        if len(ls) < 11: \n",
    "            ls.insert(0, 'id')\n",
    "            ls.insert(1, 'track')"
   ]
  },
  {
   "cell_type": "code",
   "execution_count": 57,
   "metadata": {},
   "outputs": [],
   "source": [
    "# Adding the year to the list throughout the season results. \n",
    "def insert_years(list_name):\n",
    "    races_per_season = { \n",
    "        '2015' : '19',\n",
    "        '2016' : '21',\n",
    "        '20116': '21',\n",
    "        '2017' : '20',\n",
    "        '2018' : '21',\n",
    "        '2019' : '21', \n",
    "        '2020' : '17', \n",
    "        '2021' : '16'\n",
    "    }\n",
    "\n",
    "    i = 0\n",
    "    for k,v in races_per_season.items(): \n",
    "        total_races = 0\n",
    "        while total_races < int(v):\n",
    "            try:\n",
    "                list_name[i].insert(1, k)\n",
    "                total_races += 1\n",
    "                i += 1\n",
    "            except IndexError:\n",
    "                print(\"Race's don't add up, are you trying to pass more races than you have data?\")\n",
    "                break"
   ]
  },
  {
   "cell_type": "code",
   "execution_count": 90,
   "metadata": {},
   "outputs": [],
   "source": [
    "remove_unneeded_lists(odd_rows_raw)\n",
    "insert_years(odd_rows_raw)"
   ]
  },
  {
   "cell_type": "code",
   "execution_count": 95,
   "metadata": {},
   "outputs": [],
   "source": [
    "# Copy of the uniformed list as bacup. \n",
    "odd_rows_uniformed = [row.copy() for row in odd_rows_raw]"
   ]
  },
  {
   "cell_type": "code",
   "execution_count": 96,
   "metadata": {},
   "outputs": [
    {
     "data": {
      "text/plain": [
       "['168',\n",
       " '2015',\n",
       " 'Malaysia',\n",
       " 'Scuderia Toro Rosso',\n",
       " '33',\n",
       " 'VERSTAPPEN Max',\n",
       " 'STR10',\n",
       " 'Renault',\n",
       " 'Pirelli',\n",
       " '6',\n",
       " '7',\n",
       " '']"
      ]
     },
     "execution_count": 96,
     "metadata": {},
     "output_type": "execute_result"
    }
   ],
   "source": [
    "odd_rows_uniformed[1]"
   ]
  },
  {
   "cell_type": "markdown",
   "metadata": {},
   "source": [
    "# <p align=center>Creating the first DataFrame</p>\n",
    "## Now that we have pre processed our odd data, by adding the requried indices to make it conform to the main list we can create our first DataFrame. To enable us to have something to join on easier later, I am making the id, start from 0 - this makes sense as it is designed to follow the stats from the start of Max's F1 career. "
   ]
  },
  {
   "cell_type": "code",
   "execution_count": 84,
   "metadata": {},
   "outputs": [],
   "source": [
    "# Sets the race id according to the race number in which Max Participated from 2015 onwards. \n",
    "def set_race_id(list_name, race_id_start, race_number_start, race_number_end):    \n",
    "    race_id = race_id_start\n",
    "    for ls in list_name[race_number_start:race_number_end]:\n",
    "        try: \n",
    "            ls[0] = race_id\n",
    "            race_id += 1\n",
    "        except IndexError:\n",
    "            print(\"index error, not enough races to complete.\")"
   ]
  },
  {
   "cell_type": "code",
   "execution_count": 99,
   "metadata": {},
   "outputs": [
    {
     "data": {
      "text/html": [
       "<div>\n",
       "<style scoped>\n",
       "    .dataframe tbody tr th:only-of-type {\n",
       "        vertical-align: middle;\n",
       "    }\n",
       "\n",
       "    .dataframe tbody tr th {\n",
       "        vertical-align: top;\n",
       "    }\n",
       "\n",
       "    .dataframe thead th {\n",
       "        text-align: right;\n",
       "    }\n",
       "</style>\n",
       "<table border=\"1\" class=\"dataframe\">\n",
       "  <thead>\n",
       "    <tr style=\"text-align: right;\">\n",
       "      <th></th>\n",
       "      <th>id</th>\n",
       "      <th>year</th>\n",
       "      <th>track</th>\n",
       "      <th>team</th>\n",
       "      <th>driver_num</th>\n",
       "      <th>driver</th>\n",
       "      <th>model</th>\n",
       "      <th>engine</th>\n",
       "      <th>tyre</th>\n",
       "      <th>grid_pos</th>\n",
       "      <th>fin_pos</th>\n",
       "      <th>notes</th>\n",
       "    </tr>\n",
       "  </thead>\n",
       "  <tbody>\n",
       "    <tr>\n",
       "      <th>0</th>\n",
       "      <td>1</td>\n",
       "      <td>2015</td>\n",
       "      <td>Australia</td>\n",
       "      <td>Scuderia Toro Rosso</td>\n",
       "      <td>33</td>\n",
       "      <td>VERSTAPPEN Max</td>\n",
       "      <td>STR10</td>\n",
       "      <td>Renault</td>\n",
       "      <td>Pirelli</td>\n",
       "      <td>11</td>\n",
       "      <td>ab</td>\n",
       "      <td>Engine</td>\n",
       "    </tr>\n",
       "    <tr>\n",
       "      <th>1</th>\n",
       "      <td>2</td>\n",
       "      <td>2015</td>\n",
       "      <td>Malaysia</td>\n",
       "      <td>Scuderia Toro Rosso</td>\n",
       "      <td>33</td>\n",
       "      <td>VERSTAPPEN Max</td>\n",
       "      <td>STR10</td>\n",
       "      <td>Renault</td>\n",
       "      <td>Pirelli</td>\n",
       "      <td>6</td>\n",
       "      <td>7</td>\n",
       "      <td></td>\n",
       "    </tr>\n",
       "    <tr>\n",
       "      <th>2</th>\n",
       "      <td>3</td>\n",
       "      <td>2015</td>\n",
       "      <td>China</td>\n",
       "      <td>Scuderia Toro Rosso</td>\n",
       "      <td>33</td>\n",
       "      <td>VERSTAPPEN Max</td>\n",
       "      <td>STR10</td>\n",
       "      <td>Renault</td>\n",
       "      <td>Pirelli</td>\n",
       "      <td>13</td>\n",
       "      <td>17</td>\n",
       "      <td>Engine</td>\n",
       "    </tr>\n",
       "    <tr>\n",
       "      <th>3</th>\n",
       "      <td>4</td>\n",
       "      <td>2015</td>\n",
       "      <td>Bahrain</td>\n",
       "      <td>Scuderia Toro Rosso</td>\n",
       "      <td>33</td>\n",
       "      <td>VERSTAPPEN Max</td>\n",
       "      <td>STR10</td>\n",
       "      <td>Renault</td>\n",
       "      <td>Pirelli</td>\n",
       "      <td>15</td>\n",
       "      <td>ab</td>\n",
       "      <td>Electrics</td>\n",
       "    </tr>\n",
       "    <tr>\n",
       "      <th>4</th>\n",
       "      <td>5</td>\n",
       "      <td>2015</td>\n",
       "      <td>Spain</td>\n",
       "      <td>Scuderia Toro Rosso</td>\n",
       "      <td>33</td>\n",
       "      <td>VERSTAPPEN Max</td>\n",
       "      <td>STR10</td>\n",
       "      <td>Renault</td>\n",
       "      <td>Pirelli</td>\n",
       "      <td>6</td>\n",
       "      <td>11</td>\n",
       "      <td></td>\n",
       "    </tr>\n",
       "  </tbody>\n",
       "</table>\n",
       "</div>"
      ],
      "text/plain": [
       "  id  year      track                 team driver_num          driver  model  \\\n",
       "0  1  2015  Australia  Scuderia Toro Rosso         33  VERSTAPPEN Max  STR10   \n",
       "1  2  2015   Malaysia  Scuderia Toro Rosso         33  VERSTAPPEN Max  STR10   \n",
       "2  3  2015      China  Scuderia Toro Rosso         33  VERSTAPPEN Max  STR10   \n",
       "3  4  2015    Bahrain  Scuderia Toro Rosso         33  VERSTAPPEN Max  STR10   \n",
       "4  5  2015      Spain  Scuderia Toro Rosso         33  VERSTAPPEN Max  STR10   \n",
       "\n",
       "    engine     tyre grid_pos fin_pos      notes  \n",
       "0  Renault  Pirelli       11      ab     Engine  \n",
       "1  Renault  Pirelli        6       7             \n",
       "2  Renault  Pirelli       13      17     Engine  \n",
       "3  Renault  Pirelli       15      ab  Electrics  \n",
       "4  Renault  Pirelli        6      11             "
      ]
     },
     "execution_count": 99,
     "metadata": {},
     "output_type": "execute_result"
    }
   ],
   "source": [
    "odd_df = pd.DataFrame(odd_rows_uniformed, columns=[\"id\", \"year\", \"track\", \"team\", \"driver_num\", \"driver\", \"model\", \"engine\", \"tyre\", \"grid_pos\", \"fin_pos\", \"notes\"])\n",
    "odd_df.head()"
   ]
  },
  {
   "cell_type": "code",
   "execution_count": 98,
   "metadata": {},
   "outputs": [],
   "source": [
    "set_race_id(odd_rows_uniformed, 1, 0, 40) # Isolates Toro Rosso from 2015 - 2016\n",
    "set_race_id(odd_rows_uniformed, 20, 40, -1) # RedBull from 2016 onward. "
   ]
  },
  {
   "cell_type": "code",
   "execution_count": 100,
   "metadata": {},
   "outputs": [
    {
     "data": {
      "text/plain": [
       "[[40,\n",
       "  '2016',\n",
       "  'Abu Dhabi',\n",
       "  'Scuderia Toro Rosso',\n",
       "  '26',\n",
       "  'KVYAT Daniil',\n",
       "  'STR11',\n",
       "  'Ferrari',\n",
       "  'Pirelli',\n",
       "  '17',\n",
       "  'ab',\n",
       "  'Gearbox'],\n",
       " [20,\n",
       "  '20116',\n",
       "  'Australia',\n",
       "  'Red Bull Racing',\n",
       "  '3',\n",
       "  'RICCIARDO Daniel',\n",
       "  'RB12',\n",
       "  'TAG Heuer',\n",
       "  'Pirelli',\n",
       "  '8',\n",
       "  '4',\n",
       "  '']]"
      ]
     },
     "execution_count": 100,
     "metadata": {},
     "output_type": "execute_result"
    }
   ],
   "source": [
    "odd_rows_uniformed[39:41]"
   ]
  },
  {
   "cell_type": "markdown",
   "metadata": {},
   "source": [
    "# <p align=center> Now for the even rows </p>\n",
    "## Now we repeat the above process with the even rows"
   ]
  },
  {
   "cell_type": "code",
   "execution_count": 103,
   "metadata": {},
   "outputs": [],
   "source": [
    "remove_unneeded_lists(even_rows_raw)"
   ]
  },
  {
   "cell_type": "code",
   "execution_count": 106,
   "metadata": {},
   "outputs": [],
   "source": [
    "even_rows_uniformed = [row.copy() for row in even_rows_raw]"
   ]
  },
  {
   "cell_type": "code",
   "execution_count": 108,
   "metadata": {},
   "outputs": [
    {
     "data": {
      "text/plain": [
       "['id',\n",
       " 'track',\n",
       " 'Scuderia Toro Rosso',\n",
       " '55',\n",
       " 'SAINZ Carlos',\n",
       " 'STR10',\n",
       " 'Renault',\n",
       " 'Pirelli',\n",
       " '15',\n",
       " '8',\n",
       " '']"
      ]
     },
     "execution_count": 108,
     "metadata": {},
     "output_type": "execute_result"
    }
   ],
   "source": [
    "even_rows_uniformed[1]"
   ]
  },
  {
   "cell_type": "code",
   "execution_count": 110,
   "metadata": {},
   "outputs": [
    {
     "name": "stdout",
     "output_type": "stream",
     "text": [
      "Race's don't add up, are you trying to pass more races than you have data?\n"
     ]
    }
   ],
   "source": [
    "insert_years(even_rows_uniformed)"
   ]
  },
  {
   "cell_type": "code",
   "execution_count": 124,
   "metadata": {},
   "outputs": [],
   "source": [
    "set_race_id(even_rows_uniformed, 1, 0, 40)\n",
    "set_race_id(even_rows_uniformed, 21, 40, len(even_rows_uniformed))"
   ]
  }
 ],
 "metadata": {
  "interpreter": {
   "hash": "6180266b96e5d68251ba877e2f7e9407e638de689775c4774b9b7388b1dfb47e"
  },
  "kernelspec": {
   "display_name": "Python 3.9.7 64-bit ('base': conda)",
   "name": "python3"
  },
  "language_info": {
   "codemirror_mode": {
    "name": "ipython",
    "version": 3
   },
   "file_extension": ".py",
   "mimetype": "text/x-python",
   "name": "python",
   "nbconvert_exporter": "python",
   "pygments_lexer": "ipython3",
   "version": "3.9.7"
  },
  "orig_nbformat": 4
 },
 "nbformat": 4,
 "nbformat_minor": 2
}
